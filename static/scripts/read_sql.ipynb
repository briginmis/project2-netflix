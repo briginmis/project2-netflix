{
 "cells": [
  {
   "cell_type": "code",
   "execution_count": 2,
   "metadata": {},
   "outputs": [],
   "source": [
    "# Pandas\n",
    "import pandas as pd\n",
    "\n",
    "# SQL Alchemy\n",
    "from sqlalchemy import create_engine"
   ]
  },
  {
   "cell_type": "code",
   "execution_count": 5,
   "metadata": {},
   "outputs": [],
   "source": [
    "# Create Engine for movie data\n",
    "movie_database_path = \"../../data/movie_data.sqlite\"\n",
    "engine = create_engine(f\"sqlite:///{movie_database_path}\")\n",
    "conn = engine.connect()\n",
    "\n",
    "movies = pd.read_csv(\"../../data/main.csv\")\n",
    "languages = pd.read_csv(\"../../data/languages.csv\")\n",
    "genre = pd.read_csv(\"../../data/genre.csv\")\n",
    "country = pd.read_csv(\"../../data/country.csv\")\n",
    "genre_list = pd.read_csv(\"../../data/genre_list.csv\")\n",
    "\n",
    "movies.to_sql(\"movies_data\", conn, if_exists = \"replace\")\n",
    "languages.to_sql(\"languages_data\", conn, if_exists = \"replace\")\n",
    "genre.to_sql(\"genre_data\", conn, if_exists = \"replace\")\n",
    "country.to_sql(\"country_data\", conn, if_exists = \"replace\")\n",
    "genre_list.to_sql(\"genre_list_data\", conn, if_exists = \"replace\")"
   ]
  },
  {
   "cell_type": "code",
   "execution_count": null,
   "metadata": {},
   "outputs": [],
   "source": []
  }
 ],
 "metadata": {
  "interpreter": {
   "hash": "ce35a52ba9f165f93cf202864f27973ca61cb25b12d1f17d8290329beab40354"
  },
  "kernelspec": {
   "display_name": "Python 3.7.11 64-bit ('PythonData': conda)",
   "language": "python",
   "name": "python3"
  },
  "language_info": {
   "codemirror_mode": {
    "name": "ipython",
    "version": 3
   },
   "file_extension": ".py",
   "mimetype": "text/x-python",
   "name": "python",
   "nbconvert_exporter": "python",
   "pygments_lexer": "ipython3",
   "version": "3.7.11"
  },
  "orig_nbformat": 4
 },
 "nbformat": 4,
 "nbformat_minor": 2
}
