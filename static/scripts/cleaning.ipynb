{
 "cells": [
  {
   "cell_type": "code",
   "execution_count": 2,
   "metadata": {},
   "outputs": [],
   "source": [
    "# Import dependencies\n",
    "import pandas as pd\n",
    "import functions as cf\n",
    "import warnings\n",
    "warnings.filterwarnings('ignore')\n",
    "\n",
    "pd.set_option(\"display.max_columns\", None)"
   ]
  },
  {
   "cell_type": "code",
   "execution_count": 67,
   "metadata": {},
   "outputs": [],
   "source": [
    "# Read Listings CSV \n",
    "df_all = pd.read_csv(\"../../data/netflix-rotten-tomatoes-metacritic-imdb.csv\")\n",
    "# Add movie_id index\n",
    "df_all['movie_id'] = df_all.index\n",
    "# Dropping na from columns of concern\n",
    "df_all = df_all.dropna(subset=['Genre', 'Languages','Country Availability','IMDb Score'])\n",
    "# output into new csv with all data\n",
    "df_all.to_csv(\"../../data/main.csv\")\n"
   ]
  },
  {
   "cell_type": "code",
   "execution_count": 24,
   "metadata": {},
   "outputs": [],
   "source": [
    "# Define function to explode data\n",
    "def explode_into_rows_in_new_table (input_df:pd.DataFrame,id_column, explode_column):\n",
    "   \n",
    "    # Create lists to store id and list of amenities\n",
    "    id_list=[]\n",
    "    explode_list=[]\n",
    "    #iterate through each row and convert the string lists to actual lists using split function\n",
    "    for index,row in input_df.iterrows():\n",
    "        id_list.append(row[id_column])\n",
    "        if row[explode_column]==\"\":\n",
    "            explode_list.append([\"No_data\"])\n",
    "        else:\n",
    "            explode_list.append(row[explode_column].split(\",\"))\n",
    "    \n",
    "    # Create a data frame from the id and amenities for each instance\n",
    "    df2=pd.DataFrame({id_column:id_list,explode_column:explode_list})\n",
    "\n",
    "    # Explode (split the lists into new rows)\n",
    "    df2=df2.explode(explode_column)\n",
    "    df2=df2.reset_index(drop=True)\n",
    "    return df2"
   ]
  },
  {
   "cell_type": "code",
   "execution_count": 58,
   "metadata": {},
   "outputs": [],
   "source": [
    "# Creating genre.csv\n",
    "df_genre = df_all[['movie_id','Genre']]\n",
    "# Explode data \n",
    "df_genre_explode = explode_into_rows_in_new_table(df_genre,id_column = \"movie_id\", explode_column = \"Genre\")\n",
    "# Output to csv\n",
    "df_genre_explode.to_csv(\"../../data/genre.csv\")"
   ]
  },
  {
   "cell_type": "code",
   "execution_count": 61,
   "metadata": {},
   "outputs": [],
   "source": [
    "# Creating languages.csv\n",
    "df_Languages = df_all[['movie_id','Languages']]\n",
    "# Explode data \n",
    "df_Languages_explode = explode_into_rows_in_new_table(df_Languages,id_column = \"movie_id\", explode_column = \"Languages\")\n",
    "# Output to csv\n",
    "df_Languages_explode.to_csv(\"../../data/languages.csv\")\n"
   ]
  },
  {
   "cell_type": "code",
   "execution_count": 66,
   "metadata": {},
   "outputs": [],
   "source": [
    "# Creating country.csv\n",
    "df_country = df_all[['movie_id','Country Availability']]\n",
    "# Explode data \n",
    "df_country_explode = explode_into_rows_in_new_table(df_country,id_column = \"movie_id\", explode_column = \"Country Availability\")\n",
    "# Output to csv\n",
    "df_country_explode.to_csv(\"../../data/country.csv\")"
   ]
  },
  {
   "cell_type": "code",
   "execution_count": null,
   "metadata": {},
   "outputs": [],
   "source": []
  }
 ],
 "metadata": {
  "interpreter": {
   "hash": "adb23f67c4ccb203e12629f1c11767436980cb58129140759442da09bf0b2380"
  },
  "kernelspec": {
   "display_name": "Python 3.7.11 64-bit ('PythonData': conda)",
   "language": "python",
   "name": "python3"
  },
  "language_info": {
   "codemirror_mode": {
    "name": "ipython",
    "version": 3
   },
   "file_extension": ".py",
   "mimetype": "text/x-python",
   "name": "python",
   "nbconvert_exporter": "python",
   "pygments_lexer": "ipython3",
   "version": "3.7.11"
  },
  "orig_nbformat": 4
 },
 "nbformat": 4,
 "nbformat_minor": 2
}
